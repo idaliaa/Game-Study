{
 "cells": [
  {
   "cell_type": "code",
   "execution_count": 17,
   "id": "10508430",
   "metadata": {},
   "outputs": [],
   "source": [
    "import pandas as pd\n",
    "import re\n",
    "\n",
    "# Load CSV\n",
    "original_file = \"kafka_game_youtube_comments.csv\"\n",
    "df_original = pd.read_csv(original_file, engine='python')\n",
    "\n",
    "# Make a backup copy and save\n",
    "df_copy = df_original.copy()\n",
    "copy_file = \"kafka_game_youtube_comments_copy.csv\"\n",
    "df_copy.to_csv(copy_file, index=False)\n",
    "\n",
    "# Define df from the original\n",
    "df = df_original\n"
   ]
  },
  {
   "cell_type": "code",
   "execution_count": 18,
   "id": "1ed2a185",
   "metadata": {},
   "outputs": [],
   "source": [
    "# Drop rows with missing comments\n",
    "df.dropna(subset=['comment'], inplace=True)"
   ]
  },
  {
   "cell_type": "code",
   "execution_count": 19,
   "id": "44bdc2af",
   "metadata": {},
   "outputs": [
    {
     "name": "stderr",
     "output_type": "stream",
     "text": [
      "/var/folders/4_/3fkfmzxx4hvg5wfsm9hgrb6m0000gn/T/ipykernel_28964/874518356.py:5: FutureWarning: DataFrame.applymap has been deprecated. Use DataFrame.map instead.\n",
      "  df = df.applymap(lambda x: x.lower() if isinstance(x, str) else x)\n"
     ]
    }
   ],
   "source": [
    "# Convert comments to lowercase\n",
    "df['comment'] = df['comment'].str.lower()\n",
    "df.columns = df.columns.str.lower()\n",
    "# Lowercase all string cells\n",
    "df = df.applymap(lambda x: x.lower() if isinstance(x, str) else x)"
   ]
  },
  {
   "cell_type": "code",
   "execution_count": 20,
   "id": "30996eea",
   "metadata": {},
   "outputs": [],
   "source": [
    "df['comment'] = df['comment'].apply(\n",
    "    lambda x: re.sub(r'http\\S+|www\\S+|https\\S+', '', x) if isinstance(x, str) else x\n",
    ")"
   ]
  },
  {
   "cell_type": "code",
   "execution_count": 21,
   "id": "e9eb0338",
   "metadata": {},
   "outputs": [],
   "source": [
    "# Remove mentions\n",
    "df['comment'] = df['comment'].apply(lambda x: re.sub(r'@\\w+', '', x))"
   ]
  },
  {
   "cell_type": "code",
   "execution_count": 22,
   "id": "9c17da46",
   "metadata": {},
   "outputs": [],
   "source": [
    "# Remove unwanted special characters (keep hashtags and emojis)\n",
    "df['comment'] = df['comment'].apply(lambda x: re.sub(r'[^\\w\\s#]', '', x))"
   ]
  },
  {
   "cell_type": "code",
   "execution_count": 23,
   "id": "026c6e08",
   "metadata": {},
   "outputs": [],
   "source": [
    "\n",
    "# Remove unwanted special characters (keep hashtags and emojis)\n",
    "df['comment'] = df['comment'].apply(lambda x: re.sub(r'[^\\w\\s#]', '', x))"
   ]
  },
  {
   "cell_type": "code",
   "execution_count": 24,
   "id": "3da70467",
   "metadata": {},
   "outputs": [],
   "source": [
    "# Strip leading/trailing whitespace\n",
    "df['comment'] = df['comment'].str.strip()"
   ]
  },
  {
   "cell_type": "code",
   "execution_count": 25,
   "id": "6543ed3e",
   "metadata": {},
   "outputs": [],
   "source": [
    "# Remove duplicate comments\n",
    "df.drop_duplicates(subset=['comment'], inplace=True)"
   ]
  },
  {
   "cell_type": "code",
   "execution_count": 26,
   "id": "527d5af1",
   "metadata": {},
   "outputs": [],
   "source": [
    "# Remove empty comments after cleaning\n",
    "df = df[df['comment'].str.strip().astype(bool)]"
   ]
  },
  {
   "cell_type": "code",
   "execution_count": 27,
   "id": "93afb285",
   "metadata": {},
   "outputs": [],
   "source": [
    "# Reset index\n",
    "df.reset_index(drop=True, inplace=True)"
   ]
  },
  {
   "cell_type": "code",
   "execution_count": null,
   "id": "86c4d8fa",
   "metadata": {},
   "outputs": [],
   "source": [
    "# Replace multiple spaces/tabs/newlines with a single space\n",
    "df['comment'] = df['comment'].apply(lambda x: re.sub(r'\\s+', ' ', x).strip() if isinstance(x, str) else x)\n",
    "\n",
    "# Optional\n",
    "df['comment'] = df['comment'].str.strip()"
   ]
  },
  {
   "cell_type": "code",
   "execution_count": 34,
   "id": "0d9a126a",
   "metadata": {},
   "outputs": [],
   "source": [
    "# Save cleaned version\n",
    "df.to_csv('cleaned_youtube_comments.csv', index=False)"
   ]
  },
  {
   "cell_type": "code",
   "execution_count": null,
   "id": "25b7f583",
   "metadata": {},
   "outputs": [
    {
     "data": {
      "text/html": [
       "<div>\n",
       "<style scoped>\n",
       "    .dataframe tbody tr th:only-of-type {\n",
       "        vertical-align: middle;\n",
       "    }\n",
       "\n",
       "    .dataframe tbody tr th {\n",
       "        vertical-align: top;\n",
       "    }\n",
       "\n",
       "    .dataframe thead th {\n",
       "        text-align: right;\n",
       "    }\n",
       "</style>\n",
       "<table border=\"1\" class=\"dataframe\">\n",
       "  <thead>\n",
       "    <tr style=\"text-align: right;\">\n",
       "      <th></th>\n",
       "      <th>game_title</th>\n",
       "      <th>video_id</th>\n",
       "      <th>comment</th>\n",
       "    </tr>\n",
       "  </thead>\n",
       "  <tbody>\n",
       "    <tr>\n",
       "      <th>0</th>\n",
       "      <td>the franz kafka videogame</td>\n",
       "      <td>rp9cvxnogca</td>\n",
       "      <td>if you enjoy gamespub videos a comment like or...</td>\n",
       "    </tr>\n",
       "    <tr>\n",
       "      <th>1</th>\n",
       "      <td>the franz kafka videogame</td>\n",
       "      <td>rp9cvxnogca</td>\n",
       "      <td>obrigado pela ajuda</td>\n",
       "    </tr>\n",
       "    <tr>\n",
       "      <th>2</th>\n",
       "      <td>the franz kafka videogame</td>\n",
       "      <td>rp9cvxnogca</td>\n",
       "      <td>i am german and i hated franz kafkas books at ...</td>\n",
       "    </tr>\n",
       "    <tr>\n",
       "      <th>3</th>\n",
       "      <td>the franz kafka videogame</td>\n",
       "      <td>rp9cvxnogca</td>\n",
       "      <td>thank you for your help on the ammo puzzle hon...</td>\n",
       "    </tr>\n",
       "    <tr>\n",
       "      <th>4</th>\n",
       "      <td>metamorphosis</td>\n",
       "      <td>ns9z2qhczdy</td>\n",
       "      <td>whoa whoa whoawhos still listening in 2023 we ...</td>\n",
       "    </tr>\n",
       "  </tbody>\n",
       "</table>\n",
       "</div>"
      ],
      "text/plain": [
       "                  game_title     video_id  \\\n",
       "0  the franz kafka videogame  rp9cvxnogca   \n",
       "1  the franz kafka videogame  rp9cvxnogca   \n",
       "2  the franz kafka videogame  rp9cvxnogca   \n",
       "3  the franz kafka videogame  rp9cvxnogca   \n",
       "4              metamorphosis  ns9z2qhczdy   \n",
       "\n",
       "                                             comment  \n",
       "0  if you enjoy gamespub videos a comment like or...  \n",
       "1                                obrigado pela ajuda  \n",
       "2  i am german and i hated franz kafkas books at ...  \n",
       "3  thank you for your help on the ammo puzzle hon...  \n",
       "4  whoa whoa whoawhos still listening in 2023 we ...  "
      ]
     },
     "execution_count": 30,
     "metadata": {},
     "output_type": "execute_result"
    }
   ],
   "source": [
    "# Preview few comments\n",
    "df.head()"
   ]
  },
  {
   "cell_type": "code",
   "execution_count": null,
   "id": "7d150253",
   "metadata": {},
   "outputs": [],
   "source": []
  }
 ],
 "metadata": {
  "kernelspec": {
   "display_name": "kafka-env",
   "language": "python",
   "name": "python3"
  },
  "language_info": {
   "codemirror_mode": {
    "name": "ipython",
    "version": 3
   },
   "file_extension": ".py",
   "mimetype": "text/x-python",
   "name": "python",
   "nbconvert_exporter": "python",
   "pygments_lexer": "ipython3",
   "version": "3.10.18"
  }
 },
 "nbformat": 4,
 "nbformat_minor": 5
}
