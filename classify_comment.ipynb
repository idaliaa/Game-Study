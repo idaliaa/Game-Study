{
 "cells": [
  {
   "cell_type": "code",
   "execution_count": null,
   "id": "17cea8b8",
   "metadata": {},
   "outputs": [],
   "source": [
    "\n",
    "import pandas as pd\n",
    "\n",
    "# Load the dataset\n",
    "df = pd.read_csv('cleaned_youtube_comments.csv')\n",
    "\n",
    "# Example kafkaesque keywords (expand this list as needed)\n",
    "kafka_keywords = [\"depression\", \"hopeless\", \"meaningless\", \"alienation\", 'irrational', 'absurd', 'surreal', 'alienated', 'isolated', 'bizarre', \n",
    "                           'bureaucracy', 'system', 'powerless', 'trapped', 'despair', 'Kafka', \n",
    "                           'trial', 'judgment', 'law', 'control', 'Kafkaesque', 'existential', \n",
    "                           'nightmarish', 'futility', 'dread', 'imprisonment', 'dehumanization', \n",
    "                           'indifference', 'hopeless', 'confusion', 'trapped', 'unresolvable']\n",
    "\n",
    "# Function to classify comments\n",
    "def classify_comment(comment):\n",
    "    for kw in kafka_keywords:\n",
    "        if kw in comment.lower():\n",
    "            return \"kafkaesque\"\n",
    "    return \"normal\"\n",
    "\n",
    "# Apply classification\n",
    "df[\"category\"] = df[\"comment\"].apply(classify_comment)\n",
    "\n",
    "# Save with new column\n",
    "# df.to_csv(\"classified_comments.csv\", index=False)\n"
   ]
  },
  {
   "cell_type": "code",
   "execution_count": null,
   "id": "ef9a518b",
   "metadata": {},
   "outputs": [],
   "source": [
    "import pandas as pd\n",
    "import re\n",
    "\n",
    "# Load the dataset\n",
    "df = pd.read_csv('cleaned_youtube_comments.csv')\n",
    "\n",
    "explicit_roots = [\n",
    "    r\"depress\", r\"hopeless\", r\"meaningless\", r\"alienat\", r\"irrational\", r\"absurd\",\n",
    "    r\"surreal\", r\"alienat\", r\"isolat\", r\"bizarre\", r\"bureaucrac\", r\"powerless\",\n",
    "    r\"despair\", r\"kafka\", r\"trial\", r\"judgment\", r\"law\", r\"control\",\n",
    "    r\"kafkaesque\", r\"existential\", r\"nightmar\", r\"futilit\", r\"dread\",\n",
    "    r\"imprison\", r\"dehumaniz\", r\"indifference\", r\"confus\", r\"unresolv\"\n",
    "]\n",
    "\n",
    "EXPLICIT_RE = re.compile(r\"\\b(?:\" + \"|\".join(fr\"{root}[\\w-]*\" for root in explicit_roots) + r\")\\b\", re.IGNORECASE)\n",
    "\n",
    "\n",
    "implicit_patterns = [\n",
    "    r\"\\bfeel(s|ing)? trapped\\b\",\n",
    "    r\"\\bno way out\\b\",\n",
    "    r\"\\bendless (wait|waiting)\\b\",\n",
    "    r\"\\b(waiting|queueing?) forever\\b\",\n",
    "    r\"\\bstuck in (a )?(loop|maze|labyrinth)\\b\",\n",
    "    r\"\\bthe system (is|was|feels) (against|broken)\\b\",\n",
    "    r\"\\bcan('?t|not) escape\\b\",\n",
    "    r\"\\b(red )?tape\\b\",\n",
    "    r\"\\bforms? after forms?\\b\",\n",
    "    r\"\\barbitrary rules?\\b\",\n",
    "]\n",
    "IMPLICIT_RE = re.compile(\"|\".join(implicit_patterns), re.IGNORECASE)\n",
    "\n",
    "\n",
    "def classify_comment(comment: str) -> str:\n",
    "    if EXPLICIT_RE.search(comment):\n",
    "        return \"explicit_kafkaesque\"\n",
    "    if IMPLICIT_RE.search(comment):\n",
    "        return \"implicit_kafkaesque\"\n",
    "    return \"normal\"\n",
    "\n",
    "df[\"category\"] = df[\"comment\"].apply(classify_comment)\n",
    "\n",
    "\n",
    "# Save with categories\n",
    "df.to_csv(\"classified_comments.csv\", index=False)\n",
    "\n"
   ]
  },
  {
   "cell_type": "code",
   "execution_count": null,
   "id": "07e77f22",
   "metadata": {},
   "outputs": [],
   "source": [
    "# Count how many are kafkaesque vs normal\n",
    "counts = df[\"category\"].value_counts()\n",
    "\n",
    "print(counts)"
   ]
  },
  {
   "cell_type": "code",
   "execution_count": null,
   "id": "46d20f35",
   "metadata": {},
   "outputs": [],
   "source": [
    "import matplotlib.pyplot as plt\n",
    "\n",
    "# Get value counts\n",
    "counts = df['category'].value_counts()\n",
    "\n",
    "# Plot\n",
    "plt.figure(figsize=(8, 5))\n",
    "counts.plot(kind='bar', color=['skyblue', 'salmon', 'lightgreen'])\n",
    "plt.title(\"Kafkaesque Classification Counts\", fontsize=16)\n",
    "plt.ylabel(\"Count\", fontsize=12)\n",
    "plt.xlabel(\"Category\", fontsize=12)\n",
    "plt.xticks(rotation=45)\n",
    "plt.tight_layout()\n",
    "\n",
    "plt.savefig(\"classification_counts.png\")\n",
    "plt.show()\n"
   ]
  },
  {
   "cell_type": "code",
   "execution_count": null,
   "id": "7f430f84",
   "metadata": {},
   "outputs": [
    {
     "data": {
      "image/png": "[encoded data removed]",
      "text/plain": [
       "<Figure size 500x200 with 1 Axes>"
      ]
     },
     "metadata": {},
     "output_type": "display_data"
    }
   ],
   "source": [
    "import matplotlib.pyplot as plt\n",
    "import pandas as pd\n",
    "\n",
    "# Get counts\n",
    "counts_df = df['category'].value_counts().reset_index()\n",
    "counts_df.columns = ['Category', 'Count']\n",
    "\n",
    "# Plot table\n",
    "fig, ax = plt.subplots(figsize=(5, 2))\n",
    "ax.axis('off')\n",
    "table = ax.table(cellText=counts_df.values, colLabels=counts_df.columns, cellLoc='center', loc='center')\n",
    "\n",
    "\n",
    "plt.savefig(\"classification_table.png\")\n",
    "plt.show()\n"
   ]
  }
 ],
 "metadata": {
  "kernelspec": {
   "display_name": "kafka-env",
   "language": "python",
   "name": "python3"
  },
  "language_info": {
   "codemirror_mode": {
    "name": "ipython",
    "version": 3
   },
   "file_extension": ".py",
   "mimetype": "text/x-python",
   "name": "python",
   "nbconvert_exporter": "python",
   "pygments_lexer": "ipython3",
   "version": "3.10.18"
  }
 },
 "nbformat": 4,
 "nbformat_minor": 5
}
