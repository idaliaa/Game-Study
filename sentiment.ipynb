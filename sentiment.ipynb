{
 "cells": [
  {
   "cell_type": "code",
   "execution_count": null,
   "id": "cdaa7458",
   "metadata": {},
   "outputs": [],
   "source": [
    "import pandas as pd\n",
    "import numpy as np\n",
    "import matplotlib.pyplot as plt\n",
    "import nltk\n",
    "from nltk.sentiment import SentimentIntensityAnalyzer\n",
    "from sklearn.feature_extraction.text import CountVectorizer\n",
    "from sklearn.decomposition import LatentDirichletAllocation\n",
    "try:\n",
    "    SentimentIntensityAnalyzer()\n",
    "except LookupError:\n",
    "    nltk.download('vader_lexicon')\n",
    "\n",
    "sia = SentimentIntensityAnalyzer()"
   ]
  },
  {
   "cell_type": "code",
   "execution_count": null,
   "id": "edf9375d",
   "metadata": {},
   "outputs": [],
   "source": [
    "# Load CSV data\n",
    "df = pd.read_csv(\"n-gram_youtube_comments.csv\")\n"
   ]
  },
  {
   "cell_type": "code",
   "execution_count": null,
   "id": "d23ca9c1",
   "metadata": {},
   "outputs": [],
   "source": [
    "# Sentiment analysis\n",
    "def vader_scores(text: str):\n",
    "    return sia.polarity_scores(text)\n",
    "\n",
    "scores = df['comment'].apply(vader_scores).apply(pd.Series)\n",
    "df = pd.concat([df, scores], axis=1)\n",
    "\n",
    "\n",
    "# Map compound score → sentiment label\n",
    "def label_from_compound(c):\n",
    "    if c >= 0.05:\n",
    "        return \"positive\"\n",
    "    elif c <= -0.05:\n",
    "        return \"negative\"\n",
    "    else:\n",
    "        return \"neutral\"\n",
    "\n",
    "df['sentiment_label'] = df['compound'].apply(label_from_compound)\n"
   ]
  },
  {
   "cell_type": "code",
   "execution_count": null,
   "id": "d8ac2213",
   "metadata": {},
   "outputs": [],
   "source": [
    " # Aggregate insights\n",
    "label_share = (df[\"sentiment_label\"].value_counts(normalize=True) * 100).round(2)\n",
    "avg_compound = df[\"compound\"].mean()\n",
    "\n",
    "print(\"=== Aggregate ===\")\n",
    "print(\"Distribution (%):\")\n",
    "print(label_share)\n",
    "print(\"Average compound:\", round(avg_compound, 4))"
   ]
  },
  {
   "cell_type": "code",
   "execution_count": null,
   "id": "a2d24078",
   "metadata": {},
   "outputs": [],
   "source": [
    "# Top most positive/negative examples\n",
    "top_pos = df.nlargest(5, \"compound\")[[\"comment\", \"compound\"]]\n",
    "top_neg = df.nsmallest(5, \"compound\")[[\"comment\", \"compound\"]]\n",
    "\n",
    "print(\"\\nTop positive examples:\")\n",
    "print(top_pos.to_string(index=False))\n",
    "print(\"\\nTop negative examples:\")\n",
    "print(top_neg.to_string(index=False))"
   ]
  },
  {
   "cell_type": "code",
   "execution_count": 30,
   "id": "b894eccf",
   "metadata": {},
   "outputs": [
    {
     "name": "stdout",
     "output_type": "stream",
     "text": [
      "\n",
      "Top positive unigrams:\n",
      "   ngram  count\n",
      "   game   7412\n",
      "  lying   6831\n",
      "   like   5740\n",
      "     im   4553\n",
      "   just   3221\n",
      "   love   3102\n",
      "   good   3088\n",
      "   song   2258\n",
      "   mark   1996\n",
      "  video   1929\n",
      "amazing   1914\n",
      "  great   1894\n",
      " really   1868\n",
      "   best   1817\n",
      "   play   1800\n",
      "   time   1529\n",
      "   dont   1433\n",
      "  looks   1427\n",
      "    end   1398\n",
      "   film   1373\n"
     ]
    }
   ],
   "source": [
    "# Word-level analysis (Top tokens & bigrams per sentiment)\n",
    "def top_ngrams(texts, ngram_range=(1,1), top_k=20):\n",
    "    vec = CountVectorizer(stop_words=\"english\", lowercase=True,\n",
    "                          ngram_range=ngram_range, min_df=2)\n",
    "    X = vec.fit_transform(texts)\n",
    "    freqs = np.asarray(X.sum(axis=0)).ravel()\n",
    "    vocab = np.array(vec.get_feature_names_out())\n",
    "    order = freqs.argsort()[::-1][:top_k]\n",
    "    return pd.DataFrame({\"ngram\": vocab[order], \"count\": freqs[order]})\n",
    "\n",
    "pos_texts = df.loc[df[\"sentiment_label\"]==\"positive\", \"comment\"]\n",
    "neg_texts = df.loc[df[\"sentiment_label\"]==\"negative\", \"comment\"]\n",
    "\n",
    "top_pos_unigrams = top_ngrams(pos_texts, (1,1), top_k=20)\n",
    "top_neg_unigrams = top_ngrams(neg_texts, (1,1), top_k=20)\n",
    "\n",
    "top_pos_bigrams  = top_ngrams(pos_texts, (2,2), top_k=20)\n",
    "top_neg_bigrams  = top_ngrams(neg_texts, (2,2), top_k=20)\n",
    "\n",
    "top_pos_threegrams  = top_ngrams(pos_texts, (3,3), top_k=20)\n",
    "top_neg_threegrams  = top_ngrams(neg_texts, (3,3), top_k=20)\n",
    "\n",
    "top_pos_fourgrams  = top_ngrams(pos_texts, (4,4), top_k=20)\n",
    "top_neg_fourgrams  = top_ngrams(neg_texts, (4,4), top_k=20)\n",
    "\n",
    "print(\"\\nTop positive unigrams:\\n\", top_pos_unigrams.to_string(index=False))"
   ]
  },
  {
   "cell_type": "code",
   "execution_count": 31,
   "id": "0733508b",
   "metadata": {},
   "outputs": [
    {
     "name": "stdout",
     "output_type": "stream",
     "text": [
      "\n",
      "Top negative unigrams:\n",
      "  ngram  count\n",
      "  game   2733\n",
      "  just   1699\n",
      "    im   1579\n",
      "  like   1112\n",
      " lying    944\n",
      "  shit    849\n",
      "  dont    790\n",
      "  mark    702\n",
      "  make    693\n",
      "people    672\n",
      "  fuck    629\n",
      "  time    545\n",
      "   bad    544\n",
      "  damn    525\n",
      "   man    525\n",
      "  dick    522\n",
      "  song    519\n",
      "really    488\n",
      " video    481\n",
      "  know    467\n"
     ]
    }
   ],
   "source": [
    "print(\"\\nTop negative unigrams:\\n\", top_neg_unigrams.to_string(index=False))"
   ]
  },
  {
   "cell_type": "code",
   "execution_count": 32,
   "id": "b7286dce",
   "metadata": {},
   "outputs": [
    {
     "name": "stdout",
     "output_type": "stream",
     "text": [
      "\n",
      "Top positive bigrams:\n",
      "           ngram  count\n",
      "       im lying   1940\n",
      "    lying lying   1336\n",
      "        end end    866\n",
      "       lying im    663\n",
      "     looks like    582\n",
      "     short film    550\n",
      "glory arstotzka    362\n",
      "      feel like    341\n",
      "stanley parable    339\n",
      "     cd projekt    302\n",
      "      play game    285\n",
      "     video game    273\n",
      " cyberpunk 2077    266\n",
      "      dont know    264\n",
      "    projekt red    259\n",
      "       ive seen    233\n",
      "      love game    224\n",
      " elevator music    217\n",
      "   broom closet    200\n",
      "   blade runner    198\n"
     ]
    }
   ],
   "source": [
    "print(\"\\nTop positive bigrams:\\n\", top_pos_bigrams.to_string(index=False))"
   ]
  },
  {
   "cell_type": "code",
   "execution_count": 18,
   "id": "6d965129",
   "metadata": {},
   "outputs": [
    {
     "name": "stdout",
     "output_type": "stream",
     "text": [
      "\n",
      "Top negative bigrams:\n",
      "          ngram  count\n",
      "      im lying    206\n",
      "     holy shit    170\n",
      "    learn game    166\n",
      "   wanna learn    166\n",
      "    make quick    166\n",
      "      rap game    165\n",
      "    slowly hit    165\n",
      "    pimpin rap    164\n",
      "     hit tempo    164\n",
      "     yeah took    163\n",
      "   game talkin    163\n",
      "     dick make    163\n",
      "    tempo just    163\n",
      "bitches suckin    162\n",
      "   talkin shit    162\n",
      "   game slowly    162\n",
      "     pimp hoes    162\n",
      "     dick yeah    162\n",
      "   suckin dick    162\n",
      "  dick bitches    162\n"
     ]
    }
   ],
   "source": [
    "print(\"\\nTop negative bigrams:\\n\", top_neg_bigrams.to_string(index=False))"
   ]
  },
  {
   "cell_type": "code",
   "execution_count": 19,
   "id": "1b614528",
   "metadata": {},
   "outputs": [
    {
     "name": "stdout",
     "output_type": "stream",
     "text": [
      "\n",
      "Top positive threegrams:\n",
      "                     ngram  count\n",
      "        lying lying lying   1239\n",
      "              end end end    826\n",
      "              im lying im    572\n",
      "           lying im lying    541\n",
      "           cd projekt red    244\n",
      "              yes yes yes    137\n",
      "           cd project red    114\n",
      "      broom closet ending     97\n",
      "             ive im lying     94\n",
      "        play beat driving     60\n",
      "         people play beat     60\n",
      "     dont suckplease dont     58\n",
      "          makes feel like     57\n",
      "       got motivated went     54\n",
      "          best short film     54\n",
      "       motivated went gym     54\n",
      "   dancing elevator music     52\n",
      "       went gym listening     52\n",
      "gym listening masterpiece     52\n",
      "         reps nerves body     51\n"
     ]
    }
   ],
   "source": [
    "print(\"\\nTop positive threegrams:\\n\", top_pos_threegrams.to_string(index=False))"
   ]
  },
  {
   "cell_type": "code",
   "execution_count": 20,
   "id": "d72914ef",
   "metadata": {},
   "outputs": [
    {
     "name": "stdout",
     "output_type": "stream",
     "text": [
      "\n",
      "Top negative threerams:\n",
      "               ngram  count\n",
      "   wanna learn game    166\n",
      "    pimpin rap game    164\n",
      "   slowly hit tempo    164\n",
      "  learn game talkin    163\n",
      "     hit tempo just    163\n",
      "    game slowly hit    162\n",
      "   game talkin shit    162\n",
      "    dick make quick    162\n",
      "     dick yeah took    162\n",
      "    rap game slowly    162\n",
      "dick bitches suckin    161\n",
      "   suckin dick make    161\n",
      "    make quick dick    161\n",
      " tempo just bitches    161\n",
      "    quick dick yeah    161\n",
      "bitches suckin dick    161\n",
      " niggas wanna learn    158\n",
      "  just bitches tame    158\n",
      " nigga dick bitches    157\n",
      "  just victim chose    155\n"
     ]
    }
   ],
   "source": [
    "print(\"\\nTop negative threerams:\\n\", top_neg_threegrams.to_string(index=False))"
   ]
  },
  {
   "cell_type": "code",
   "execution_count": 21,
   "id": "875f140d",
   "metadata": {},
   "outputs": [
    {
     "name": "stdout",
     "output_type": "stream",
     "text": [
      "\n",
      "Top positive fourrams:\n",
      "                           ngram  count\n",
      "        lying lying lying lying   1193\n",
      "                end end end end    801\n",
      "              im lying im lying    534\n",
      "              lying im lying im    517\n",
      "                yes yes yes yes    121\n",
      "       people play beat driving     60\n",
      "         got motivated went gym     54\n",
      "   motivated went gym listening     52\n",
      " went gym listening masterpiece     52\n",
      "       excited reps nerves body     51\n",
      "    playlist got motivated went     50\n",
      "    song playlist got motivated     50\n",
      "  gym listening masterpiece gym     50\n",
      "comments thoughts writing hands     49\n",
      "            mats gym shoes play     49\n",
      "  thoughts writing hands typing     49\n",
      "       including mats gym shoes     49\n",
      "    listens excited reps nerves     49\n",
      "  writing hands typing keyboard     49\n",
      "        added song playlist got     49\n"
     ]
    }
   ],
   "source": [
    "print(\"\\nTop positive fourrams:\\n\", top_pos_fourgrams.to_string(index=False))"
   ]
  },
  {
   "cell_type": "code",
   "execution_count": 22,
   "id": "97b514e3",
   "metadata": {},
   "outputs": [
    {
     "name": "stdout",
     "output_type": "stream",
     "text": [
      "\n",
      "Top negative fourrams:\n",
      "                     ngram  count\n",
      "  wanna learn game talkin    163\n",
      "    slowly hit tempo just    163\n",
      "   pimpin rap game slowly    162\n",
      "      rap game slowly hit    162\n",
      "   learn game talkin shit    162\n",
      "     make quick dick yeah    161\n",
      "   hit tempo just bitches    161\n",
      "     quick dick yeah took    161\n",
      "    game slowly hit tempo    161\n",
      " bitches suckin dick make    161\n",
      "     dick make quick dick    161\n",
      " dick bitches suckin dick    161\n",
      "   suckin dick make quick    160\n",
      "  niggas wanna learn game    158\n",
      "  tempo just bitches tame    158\n",
      "nigga dick bitches suckin    156\n",
      "   fallin pimpin rap game    148\n",
      "   hoes fallin pimpin rap    146\n",
      "  pimp hoes fallin pimpin    146\n",
      "  hoes niggas wanna learn    139\n"
     ]
    }
   ],
   "source": [
    "print(\"\\nTop negative fourrams:\\n\", top_neg_fourgrams.to_string(index=False))"
   ]
  },
  {
   "cell_type": "code",
   "execution_count": 33,
   "id": "b8e982da",
   "metadata": {},
   "outputs": [
    {
     "name": "stdout",
     "output_type": "stream",
     "text": [
      "\n",
      "Intensity distribution (%):\n",
      "intensity\n",
      "neutral/zero    42.65\n",
      "strong          26.56\n",
      "very strong     12.73\n",
      "moderate        12.33\n",
      "weak             5.73\n",
      "Name: proportion, dtype: float64\n"
     ]
    }
   ],
   "source": [
    "# Confidence & intensity\n",
    "def intensity_bucket(c):\n",
    "    m = abs(c)\n",
    "    if m >= 0.7:  return \"very strong\"\n",
    "    if m >= 0.4:  return \"strong\"\n",
    "    if m >= 0.2:  return \"moderate\"\n",
    "    if m >  0.0:  return \"weak\"\n",
    "    return \"neutral/zero\"\n",
    "\n",
    "df[\"intensity\"] = df[\"compound\"].apply(intensity_bucket)\n",
    "\n",
    "print(\"\\nIntensity distribution (%):\")\n",
    "print((df[\"intensity\"].value_counts(normalize=True)*100).round(2))"
   ]
  },
  {
   "cell_type": "code",
   "execution_count": 34,
   "id": "0c4335f6",
   "metadata": {},
   "outputs": [
    {
     "name": "stdout",
     "output_type": "stream",
     "text": [
      "\n",
      "=== Topics & average sentiment ===\n",
      " topic     n  avg_compound                                                              top_words\n",
      "     0 22653        0.1269       game, like, just, really, dont, looks, people, good, games, play\n",
      "     1  8397        0.2154           amazing, jim, good, game, red, cd, fucking, nice, shit, work\n",
      "     2 10362        0.1831       just, great, video, good, like, papers, god, job, film, watching\n",
      "     3  9292        0.2600             lying, im, end, bucket, movie, game, make, film, just, ive\n",
      "     4 13608        0.2190 song, mark, music, elevator, love, stanley, like, just, best, narrator\n",
      "     5 10499        0.0631       years, trailer, 2077, jorji, oh, cyberpunk, man, wait, gta, game\n",
      "     6  8613        0.0445                     не, это, что, на, glory, фильм, как, очень, за, но\n",
      "     7  6661        0.0368             sigma, que, la, song, el, 2024, closet, broom, ending, die\n"
     ]
    }
   ],
   "source": [
    "# Advanced modeling (Topics)\n",
    "# LDA topics -> then average sentiment per topic\n",
    "topic_vec = CountVectorizer(stop_words=\"english\", lowercase=True, min_df=5, max_df=0.5)\n",
    "X = topic_vec.fit_transform(df[\"comment\"])\n",
    "\n",
    "n_topics = 8  \n",
    "lda = LatentDirichletAllocation(n_components=n_topics, random_state=42, learning_method=\"batch\")\n",
    "topic_dist = lda.fit_transform(X)            # shape: (n_docs, n_topics)\n",
    "df[\"topic\"] = topic_dist.argmax(axis=1)      # dominant topic per comment\n",
    "\n",
    "# Show top words per topic\n",
    "terms = np.array(topic_vec.get_feature_names_out())\n",
    "def top_words_for_topic(topic_idx, top_k=12):\n",
    "    comp = lda.components_[topic_idx]\n",
    "    return terms[comp.argsort()[::-1][:top_k]]\n",
    "\n",
    "print(\"\\n=== Topics & average sentiment ===\")\n",
    "topic_summary = []\n",
    "for k in range(n_topics):\n",
    "    words = \", \".join(top_words_for_topic(k, 10))\n",
    "    avg_c = df.loc[df[\"topic\"]==k, \"compound\"].mean()\n",
    "    cnt   = (df[\"topic\"]==k).sum()\n",
    "    topic_summary.append((k, cnt, round(avg_c, 4), words))\n",
    "topic_df = pd.DataFrame(topic_summary, columns=[\"topic\",\"n\",\"avg_compound\",\"top_words\"])\n",
    "print(topic_df.to_string(index=False))"
   ]
  },
  {
   "cell_type": "code",
   "execution_count": 11,
   "id": "dd98e1da",
   "metadata": {},
   "outputs": [
    {
     "data": {
      "image/png": "[encoded data removed]",
      "text/plain": [
       "<Figure size 640x480 with 1 Axes>"
      ]
     },
     "metadata": {},
     "output_type": "display_data"
    }
   ],
   "source": [
    "# Visualization (Matplotlib)\n",
    "label_order = [\"negative\",\"neutral\",\"positive\"]\n",
    "label_counts = df[\"sentiment_label\"].value_counts().reindex(label_order, fill_value=0)\n",
    "\n",
    "plt.figure()\n",
    "label_counts.plot(kind=\"bar\")\n",
    "plt.title(\"Sentiment distribution\")\n",
    "plt.xlabel(\"Sentiment\")\n",
    "plt.ylabel(\"Count\")\n",
    "plt.tight_layout()\n",
    "plt.show()"
   ]
  },
  {
   "cell_type": "code",
   "execution_count": 12,
   "id": "b44d70dd",
   "metadata": {},
   "outputs": [
    {
     "data": {
      "image/png": "[encoded data removed]",
      "text/plain": [
       "<Figure size 640x480 with 1 Axes>"
      ]
     },
     "metadata": {},
     "output_type": "display_data"
    }
   ],
   "source": [
    "# Histohgram\n",
    "plt.figure()\n",
    "df[\"compound\"].plot(kind=\"hist\", bins=50)\n",
    "plt.title(\"Compound score distribution\")\n",
    "plt.xlabel(\"Compound\")\n",
    "plt.ylabel(\"Frequency\")\n",
    "plt.tight_layout()\n",
    "plt.show()"
   ]
  },
  {
   "cell_type": "code",
   "execution_count": 13,
   "id": "5ddfcc95",
   "metadata": {},
   "outputs": [
    {
     "data": {
      "image/png": "[encoded data removed]",
      "text/plain": [
       "<Figure size 640x480 with 1 Axes>"
      ]
     },
     "metadata": {},
     "output_type": "display_data"
    }
   ],
   "source": [
    "# Bar\n",
    "plt.figure()\n",
    "df[\"intensity\"].value_counts().plot(kind=\"bar\")\n",
    "plt.title(\"Sentiment intensity buckets\")\n",
    "plt.xlabel(\"Intensity\")\n",
    "plt.ylabel(\"Count\")\n",
    "plt.tight_layout()\n",
    "plt.show()"
   ]
  },
  {
   "cell_type": "code",
   "execution_count": 14,
   "id": "3f0b8f03",
   "metadata": {},
   "outputs": [
    {
     "name": "stdout",
     "output_type": "stream",
     "text": [
      "\n",
      "Saved: sentiment_youtube_comments.csv\n",
      "sentiment_label\n",
      "neutral     39138\n",
      "positive    36764\n",
      "negative    14183\n",
      "Name: count, dtype: int64\n"
     ]
    }
   ],
   "source": [
    "# Save results\n",
    "df.to_csv(\"sentiment_youtube_comments.csv\", index=False)\n",
    "\n",
    "print(\"\\nSaved: sentiment_youtube_comments.csv\")\n",
    "print(df['sentiment_label'].value_counts())"
   ]
  }
 ],
 "metadata": {
  "kernelspec": {
   "display_name": "kafka-env",
   "language": "python",
   "name": "python3"
  },
  "language_info": {
   "codemirror_mode": {
    "name": "ipython",
    "version": 3
   },
   "file_extension": ".py",
   "mimetype": "text/x-python",
   "name": "python",
   "nbconvert_exporter": "python",
   "pygments_lexer": "ipython3",
   "version": "3.10.18"
  }
 },
 "nbformat": 4,
 "nbformat_minor": 5
}
